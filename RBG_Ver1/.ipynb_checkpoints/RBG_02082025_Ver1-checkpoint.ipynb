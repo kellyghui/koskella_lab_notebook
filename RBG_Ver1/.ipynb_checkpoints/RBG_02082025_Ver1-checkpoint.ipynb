{
 "cells": [
  {
   "cell_type": "code",
   "execution_count": 1,
   "id": "18a6bb23",
   "metadata": {},
   "outputs": [],
   "source": [
    "import sys\n",
    "sys.path.append('/Users/kelly/koskella_lab')\n",
    "from tools import *"
   ]
  },
  {
   "cell_type": "code",
   "execution_count": 5,
   "id": "06d2f5f5",
   "metadata": {},
   "outputs": [],
   "source": [
    "df = clean_and_transpose(pd.read_csv('/Users/kelly/Desktop/KH_RBG_12092024.csv', ), 31, 129)"
   ]
  },
  {
   "cell_type": "code",
   "execution_count": null,
   "id": "5cd94b65",
   "metadata": {},
   "outputs": [],
   "source": [
    "nophage, tenthousandphage = phage_conc_sep(df)"
   ]
  }
 ],
 "metadata": {
  "kernelspec": {
   "display_name": "Python 3 (ipykernel)",
   "language": "python",
   "name": "python3"
  },
  "language_info": {
   "codemirror_mode": {
    "name": "ipython",
    "version": 3
   },
   "file_extension": ".py",
   "mimetype": "text/x-python",
   "name": "python",
   "nbconvert_exporter": "python",
   "pygments_lexer": "ipython3",
   "version": "3.11.4"
  }
 },
 "nbformat": 4,
 "nbformat_minor": 5
}
